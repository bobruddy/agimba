{
 "cells": [
  {
   "cell_type": "code",
   "execution_count": 1,
   "id": "a13df8fe-bdf6-43e4-b9ef-d57188196862",
   "metadata": {},
   "outputs": [],
   "source": [
    "import gspread\n",
    "from google.oauth2.service_account import Credentials\n",
    "import re"
   ]
  },
  {
   "cell_type": "code",
   "execution_count": 2,
   "id": "4798c2b5-5cc6-4a28-87b8-107375410620",
   "metadata": {},
   "outputs": [],
   "source": [
    "# Setup auth and client\n",
    "SCOPES = ['https://www.googleapis.com/auth/drive']\n",
    "creds = Credentials.from_service_account_file('credentials.json', scopes=SCOPES)\n",
    "client = gspread.authorize(creds)"
   ]
  },
  {
   "cell_type": "code",
   "execution_count": 3,
   "id": "2ff49803-4931-4004-80f4-a7a9813b9249",
   "metadata": {},
   "outputs": [],
   "source": [
    "# Open your spreadsheet by name or URL\n",
    "spreadsheet = client.open(\"AGIMBA Contacts 25-26\")\n",
    "sheets = ((\"AGMB Roster\", 6, 1), (\"AGIMBA Org\", 2, 1), (\"AG Staff\", 2, 1), (\"AGIMBA Contacts\", 3, 1))\n",
    "sheet_email_lists = spreadsheet.worksheet(\"EmailLists\")"
   ]
  },
  {
   "cell_type": "code",
   "execution_count": 4,
   "id": "5e31257e-759c-48d0-a700-9610678310f6",
   "metadata": {},
   "outputs": [],
   "source": [
    "# split emails if they put two in a cell\n",
    "def split_emails(raw_list):\n",
    "    split_result = []\n",
    "    for entry in raw_list:\n",
    "        # Split on anything that isn't a valid email character\n",
    "        parts = re.split(r'[^a-zA-Z0-9._%+\\-@]+', entry)\n",
    "        split_result.extend([p.strip() for p in parts if p.strip()])\n",
    "    return split_result\n",
    "\n",
    "# Basic email pattern: username@domain\n",
    "EMAIL_REGEX = re.compile(r\"^[a-zA-Z0-9_.+-]+@[a-zA-Z0-9-]+\\.[a-zA-Z0-9-.]+$\")\n",
    "def is_valid_email(email):\n",
    "    return EMAIL_REGEX.match(email) is not None"
   ]
  },
  {
   "cell_type": "code",
   "execution_count": 5,
   "id": "50c6775a-b88d-4175-87d3-87887ef577fe",
   "metadata": {},
   "outputs": [],
   "source": [
    "emails_combined = set()\n",
    "for sheet, column, row in sheets:\n",
    "    emails = split_emails( spreadsheet.worksheet(sheet).col_values(column)[row:] )\n",
    "    emails_combined.update( {email.lower() for email in emails if is_valid_email(email) } )"
   ]
  },
  {
   "cell_type": "code",
   "execution_count": 6,
   "id": "6a38d365-7d16-4f70-8284-0f12c3102596",
   "metadata": {},
   "outputs": [
    {
     "name": "stdout",
     "output_type": "stream",
     "text": [
      "Wrote 96 unique emails to 'EmailLists' sheet.\n"
     ]
    }
   ],
   "source": [
    "# Remove duplicates (case-insensitive), preserve first casing\n",
    "update_list = [ [email,] for email in sorted(emails_combined) ]\n",
    "\n",
    "# Clear old data\n",
    "sheet_email_lists.batch_clear(['A2:A'])\n",
    "\n",
    "# Prepare for writing\n",
    "sheet_email_lists.update(range_name=f'A2:A{len(update_list)+1}', values=update_list )\n",
    "\n",
    "print(f\"Wrote {len(update_list)} unique emails to '{sheet_email_lists.title}' sheet.\")"
   ]
  }
 ],
 "metadata": {
  "kernelspec": {
   "display_name": "Python 3 (ipykernel)",
   "language": "python",
   "name": "python3"
  },
  "language_info": {
   "codemirror_mode": {
    "name": "ipython",
    "version": 3
   },
   "file_extension": ".py",
   "mimetype": "text/x-python",
   "name": "python",
   "nbconvert_exporter": "python",
   "pygments_lexer": "ipython3",
   "version": "3.13.3"
  }
 },
 "nbformat": 4,
 "nbformat_minor": 5
}
