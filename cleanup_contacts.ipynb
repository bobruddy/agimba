{
 "cells": [
  {
   "cell_type": "code",
   "execution_count": 1,
   "id": "a13df8fe-bdf6-43e4-b9ef-d57188196862",
   "metadata": {},
   "outputs": [],
   "source": [
    "import gspread\n",
    "from google.oauth2.service_account import Credentials\n",
    "import re"
   ]
  },
  {
   "cell_type": "code",
   "execution_count": 2,
   "id": "4798c2b5-5cc6-4a28-87b8-107375410620",
   "metadata": {},
   "outputs": [],
   "source": [
    "# Setup auth and client\n",
    "SCOPES = ['https://www.googleapis.com/auth/drive']\n",
    "creds = Credentials.from_service_account_file('credentials.json', scopes=SCOPES)\n",
    "client = gspread.authorize(creds)"
   ]
  },
  {
   "cell_type": "code",
   "execution_count": 3,
   "id": "2ff49803-4931-4004-80f4-a7a9813b9249",
   "metadata": {},
   "outputs": [],
   "source": [
    "# Open your spreadsheet by name or URL\n",
    "spreadsheet = client.open(\"AGIMBA Contacts 25-26\")"
   ]
  },
  {
   "cell_type": "code",
   "execution_count": 4,
   "id": "a70982c2-2588-4ee4-912e-ed14ac05fe34",
   "metadata": {},
   "outputs": [],
   "source": [
    "# Read emails from two sheets/ranges\n",
    "sheet_agimba_contacts = spreadsheet.worksheet(\"AGIMBA Contacts\")\n",
    "sheet_agmb = spreadsheet.worksheet(\"AGMBRoster\")\n",
    "sheet_email_lists = spreadsheet.worksheet(\"EmailLists\")  # The sheet to write into"
   ]
  },
  {
   "cell_type": "code",
   "execution_count": 5,
   "id": "c841cd15-5d12-492a-9f29-517621551982",
   "metadata": {},
   "outputs": [],
   "source": [
    "def split_emails(raw_list):\n",
    "    split_result = []\n",
    "    for entry in raw_list:\n",
    "        # Split on anything that isn't a valid email character\n",
    "        parts = re.split(r'[^a-zA-Z0-9._%+\\-@]+', entry)\n",
    "        split_result.extend([p.strip() for p in parts if p.strip()])\n",
    "    return split_result"
   ]
  },
  {
   "cell_type": "code",
   "execution_count": 6,
   "id": "db96b398-a74d-4ca6-b8df-2e237de9daf1",
   "metadata": {},
   "outputs": [],
   "source": [
    "# Basic email pattern: username@domain\n",
    "EMAIL_REGEX = re.compile(r\"^[a-zA-Z0-9_.+-]+@[a-zA-Z0-9-]+\\.[a-zA-Z0-9-.]+$\")\n",
    "def is_valid_email(email):\n",
    "    return EMAIL_REGEX.match(email) is not None"
   ]
  },
  {
   "cell_type": "code",
   "execution_count": 7,
   "id": "b33b9477-35ef-455d-b44b-c88720af09c8",
   "metadata": {},
   "outputs": [],
   "source": [
    "# Read columns from both sheets\n",
    "emails_agimba_contacts = sheet_agimba_contacts.col_values(3)[1:]  # 'AGIMBA Contacts' column C\n",
    "emails_agmb = sheet_agmb.col_values(6)[1:]  # 'AGMBRoster' column F"
   ]
  },
  {
   "cell_type": "code",
   "execution_count": 8,
   "id": "05b2693a-bfd6-426f-885d-bc3624aa1570",
   "metadata": {},
   "outputs": [],
   "source": [
    "# Combine, split multi-email entries, remove blanks\n",
    "emails_combined = split_emails( emails_agimba_contacts + emails_agmb )"
   ]
  },
  {
   "cell_type": "code",
   "execution_count": 9,
   "id": "8dc0ca26-349f-4012-93ad-88d2c0194357",
   "metadata": {},
   "outputs": [],
   "source": [
    "# Remove duplicates (case-insensitive), preserve first casing\n",
    "seen = {email.lower() for email in emails_combined if is_valid_email(email) }\n",
    "update_list = [ [email,] for email in sorted(seen) ]"
   ]
  },
  {
   "cell_type": "code",
   "execution_count": 10,
   "id": "f55b4bd5-d4d1-4834-948b-6c724d8c458c",
   "metadata": {},
   "outputs": [
    {
     "name": "stdout",
     "output_type": "stream",
     "text": [
      "Wrote 87 unique emails to 'EmailLists' sheet.\n"
     ]
    }
   ],
   "source": [
    "# Clear old data\n",
    "sheet_email_lists.batch_clear(['A2:A'])\n",
    "\n",
    "# Prepare for writing\n",
    "sheet_email_lists.update(range_name=f'A2:A{len(seen)+1}', values=update_list )\n",
    "\n",
    "print(f\"Wrote {len(update_list)} unique emails to '{sheet_email_lists.title}' sheet.\")"
   ]
  },
  {
   "cell_type": "code",
   "execution_count": null,
   "id": "70dd0da7-e8dc-45c6-a175-9e2dcf2f9fe9",
   "metadata": {},
   "outputs": [],
   "source": []
  }
 ],
 "metadata": {
  "kernelspec": {
   "display_name": "Python 3 (ipykernel)",
   "language": "python",
   "name": "python3"
  },
  "language_info": {
   "codemirror_mode": {
    "name": "ipython",
    "version": 3
   },
   "file_extension": ".py",
   "mimetype": "text/x-python",
   "name": "python",
   "nbconvert_exporter": "python",
   "pygments_lexer": "ipython3",
   "version": "3.13.3"
  }
 },
 "nbformat": 4,
 "nbformat_minor": 5
}
